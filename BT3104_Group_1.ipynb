{
  "nbformat": 4,
  "nbformat_minor": 0,
  "metadata": {
    "colab": {
      "provenance": [],
      "include_colab_link": true
    },
    "kernelspec": {
      "name": "python3",
      "display_name": "Python 3"
    },
    "language_info": {
      "name": "python"
    }
  },
  "cells": [
    {
      "cell_type": "markdown",
      "metadata": {
        "id": "view-in-github",
        "colab_type": "text"
      },
      "source": [
        "<a href=\"https://colab.research.google.com/github/Hamayah/BT3104_Group_Project/blob/main/BT3104_Group_1.ipynb\" target=\"_parent\"><img src=\"https://colab.research.google.com/assets/colab-badge.svg\" alt=\"Open In Colab\"/></a>"
      ]
    },
    {
      "cell_type": "markdown",
      "source": [
        "# Brief Description\n",
        "\"Default of Credit Card Clients Dataset\"\n",
        "\n",
        "It contains information about the payment behavior of 30,000 credit card holders from a bank in Taiwan. There are 23 feature attributes (B to X), such as credit limit, payment history, and demographic details, that are used to predict whether a client will default on their next payment. The target variable (column Y) is binary: 0 for \"not default\" and 1 for \"default\".\n",
        "\n",
        "The data modeling problem is to predict the likelihood of credit card default based on these 23 features. The goal is to use machine learning models to analyze which factors are significant predictors and to build a model that accurately classifies clients as either \"default\" or \"not default\"."
      ],
      "metadata": {
        "id": "Jf7bm57uN2q6"
      }
    },
    {
      "cell_type": "code",
      "execution_count": null,
      "metadata": {
        "colab": {
          "base_uri": "https://localhost:8080/"
        },
        "id": "esTcCsBSL7gI",
        "outputId": "8a4f9d5b-9382-46e9-ae9d-2457ec630e73"
      },
      "outputs": [
        {
          "output_type": "stream",
          "name": "stdout",
          "text": [
            "Mounted at /content/drive\n"
          ]
        }
      ],
      "source": [
        "from google.colab import drive\n",
        "drive.mount('/content/drive')"
      ]
    },
    {
      "cell_type": "code",
      "source": [
        "!ls /content/drive/MyDrive/bt3104/"
      ],
      "metadata": {
        "id": "asGIPwkHMJMu",
        "outputId": "8fad2992-3391-44b3-be02-b5c7abe1b4d7",
        "colab": {
          "base_uri": "https://localhost:8080/"
        }
      },
      "execution_count": null,
      "outputs": [
        {
          "output_type": "stream",
          "name": "stdout",
          "text": [
            " card.csv  'Group 1.ipynb'   Untitled0.ipynb\n"
          ]
        }
      ]
    },
    {
      "cell_type": "code",
      "source": [
        "import pandas as pd\n",
        "import numpy as np\n",
        "\n",
        "# Read the data, skipping the first two lines for headers\n",
        "data = pd.read_csv(\"/content/drive/MyDrive/bt3104/card.csv\", sep=\",\", skiprows=2, header=None)\n",
        "\n",
        "# Extracting the header (first two lines)\n",
        "with open(\"/content/drive/MyDrive/bt3104/card.csv\", \"r\") as f:\n",
        "    header = [next(f).strip().split(\",\") for _ in range(2)]\n",
        "\n",
        "# Setting a random seed for reproducibility\n",
        "np.random.seed(1234)\n",
        "\n",
        "# Splitting the data into training and testing sets\n",
        "n = len(data)\n",
        "index = np.arange(n)\n",
        "test_index = np.random.choice(index, size=int(n/4), replace=False)\n",
        "train_index = np.setdiff1d(index, test_index)\n",
        "\n",
        "test_data = data.iloc[test_index]\n",
        "train_data = data.iloc[train_index]\n",
        "\n",
        "print(\"Test Data: \\n\\n\", test_data)"
      ],
      "metadata": {
        "colab": {
          "base_uri": "https://localhost:8080/"
        },
        "id": "MQG7clcRM7GY",
        "outputId": "729d5b4e-22c4-4cd2-a3fc-963573cb704e"
      },
      "execution_count": null,
      "outputs": [
        {
          "output_type": "stream",
          "name": "stdout",
          "text": [
            "Test Data: \n",
            "\n",
            "           0       1   2   3   4   5   6   7   8   9   ...     15     16  \\\n",
            "13125  13126  400000   1   1   1  34  -2  -2  -2  -2  ...      0      0   \n",
            "14635  14636   80000   1   2   2  34   0   0   0   0  ...  43182  44332   \n",
            "19429  19430  200000   2   3   1  49   1  -2  -1  -1  ...   7588   7606   \n",
            "4381    4382   20000   2   2   1  41  -1  -1  -1  -1  ...      0   7014   \n",
            "7659    7660   70000   2   1   1  36   2   0   0   0  ...  65287  35345   \n",
            "...      ...     ...  ..  ..  ..  ..  ..  ..  ..  ..  ...    ...    ...   \n",
            "11494  11495  500000   2   1   2  38   0   0   0   0  ...   2043   8479   \n",
            "25558  25559  110000   2   1   2  28   0   0   0   0  ...  84362  59391   \n",
            "17521  17522  150000   2   6   1  47   0   0   0   0  ...  93063  92758   \n",
            "13310  13311  140000   1   2   1  42   0   0   0   0  ...  65589  69117   \n",
            "2674    2675   80000   2   3   1  40   0   0   0   0  ...  25722  26261   \n",
            "\n",
            "          17    18     19    20    21     22     23  24  \n",
            "13125      0     0      0     0     0      0      0   0  \n",
            "14635  45440  2600   4300  2000  2000   2000   2000   0  \n",
            "19429  14053     0   2317  7588  7614  14053      0   0  \n",
            "4381    7696  1087   1140     0  7014    800      0   0  \n",
            "7659    9360  5000   3000  2000  3000   5000      0   0  \n",
            "...      ...   ...    ...   ...   ...    ...    ...  ..  \n",
            "11494    236  1128   1000     0  8479    236   2990   0  \n",
            "25558  59129  8080  14298  2519  6616   1953   5300   0  \n",
            "17521  93876  4539   4218  4204  3296   3408   3416   0  \n",
            "13310  65911  5059  14659  5000  8000   5000  10000   0  \n",
            "2674   26784  3500   2934   897   929    935    984   0  \n",
            "\n",
            "[7500 rows x 25 columns]\n"
          ]
        }
      ]
    },
    {
      "cell_type": "markdown",
      "source": [
        "#"
      ],
      "metadata": {
        "id": "vVPsR6AuPcct"
      }
    }
  ]
}